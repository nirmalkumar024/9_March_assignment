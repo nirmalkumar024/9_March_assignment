{
 "cells": [
  {
   "cell_type": "markdown",
   "id": "96f132e4-7650-4a4b-8847-1455ed40042c",
   "metadata": {},
   "source": [
    "Q1: What are the Probability Mass Function (PMF) and Probability Density Function (PDF)? Explain with\n",
    "an example."
   ]
  },
  {
   "cell_type": "markdown",
   "id": "a42320a9-f005-4d09-bfb0-27b842cf4111",
   "metadata": {},
   "source": [
    "Probability Mass Function in which we calculate the value of Discreate random varible other hand we have calculate continuous\n",
    "random variables.\n",
    "tossing a fair coin(PMF)\n",
    "rolling the dice(PDF)"
   ]
  },
  {
   "cell_type": "markdown",
   "id": "c160786c-0c0a-43e2-b198-68eb478f3504",
   "metadata": {},
   "source": [
    "Q2: What is Cumulative Density Function (CDF)? Explain with an example. Why CDF is used?"
   ]
  },
  {
   "cell_type": "markdown",
   "id": "16c59551-674f-4135-b0f8-079b4b71992c",
   "metadata": {},
   "source": [
    "it is the function in which the data are shown in together and value calculated with one time of all the data of function.\n",
    "it is used to find the data in one frame and total value outcome in one graph."
   ]
  },
  {
   "cell_type": "markdown",
   "id": "5aa7c041-4494-47ac-8724-f081ee3b2d29",
   "metadata": {},
   "source": [
    "Q3: What are some examples of situations where the normal distribution might be used as a model?\n",
    "Explain how the parameters of the normal distribution relate to the shape of the distribution."
   ]
  },
  {
   "cell_type": "markdown",
   "id": "da9be844-f6f4-46e1-a752-2f8c30c9df7b",
   "metadata": {},
   "source": [
    "In normal distribution we always outcome the bell corve the model and we have to mean and median are aprox same either the \n",
    "any data is not add. it is also called symmetrical distribution.\n",
    "In this distribution we have to find the mean, median and mode to find the standard deviation of the data, we have to predict\n",
    "the value of Z-table value based on Empirical Rule."
   ]
  },
  {
   "cell_type": "markdown",
   "id": "27733a8d-1c3c-4b9c-9bcb-bd5547729320",
   "metadata": {},
   "source": [
    "Q4: Explain the importance of Normal Distribution. Give a few real-life examples of Normal\n",
    "Distribution."
   ]
  },
  {
   "cell_type": "markdown",
   "id": "6dc22cf2-a5fa-48f8-8003-520cfec9a389",
   "metadata": {},
   "source": [
    "It is important for calculating the data based on the well cure we have to predict the value of occurance of data accourding \n",
    "to spread of curve(bell cure).\n",
    "\n",
    "The real life use the normal distribution examples are following:-\n",
    "\n",
    "1.The normal distribution is also termed as a gaussian distribution. It represents the data from the mean position. In the graph form normal distribution appears as a bell curve.\n",
    "\n",
    "2.The normal distribution is widely used in financing industries. To examine the price action of the stocks and to account for the returns in the assent class.\n",
    "\n",
    "3.The normal distribution is symmetric and has a skewness of zero. The skewness measures the symmetry of a distribution with respect to the normal distribution."
   ]
  },
  {
   "cell_type": "markdown",
   "id": "7f30d018-6f43-4422-903d-ddb4f2f24d65",
   "metadata": {},
   "source": [
    "Q5: What is Bernaulli Distribution? Give an Example. What is the difference between Bernoulli\n",
    "Distribution and Binomial Distribution?"
   ]
  },
  {
   "cell_type": "markdown",
   "id": "e9153de1-a7ef-4f2b-98bc-b047dd1f5bfb",
   "metadata": {},
   "source": [
    "Bernaulli Distribution define that it is type of probablity theory in which we have to find the outcome in binary form\n",
    "(yes or no), it means the single value.\n",
    "\n",
    "Diffrent between bernoulli distribution and binomial distribution are following:-\n",
    "\n",
    "Bernoulli Distribution\n",
    "\n",
    "1.it is gives the outcome only single value.\n",
    "2.The number of trials should be finite.\n",
    "3.The trials must be independent.\n",
    "4.Each trial should have exactly two outcomes: success or failure.\n",
    "5.The probability of success or failure does not change for each trial.\n",
    "\n",
    "Binomial Distribution\n",
    "\n",
    "1.The Binomial Distribution represents the number of successes and failures in n independent Bernoulli trials for some given value of n.\n",
    "\n",
    "\n"
   ]
  },
  {
   "cell_type": "markdown",
   "id": "fcf72df3-af8b-4061-b0ef-aeb6151dca73",
   "metadata": {},
   "source": [
    "Q6. Consider a dataset with a mean of 50 and a standard deviation of 10. If we assume that the dataset\n",
    "is normally distributed, what is the probability that a randomly selected observation will be greater\n",
    "than 60? Use the appropriate formula and show your calculations."
   ]
  },
  {
   "cell_type": "code",
   "execution_count": 1,
   "id": "a356eeaf-9d0c-4fc3-b4e4-befd4f15496f",
   "metadata": {},
   "outputs": [
    {
     "data": {
      "text/plain": [
       "-1.0"
      ]
     },
     "execution_count": 1,
     "metadata": {},
     "output_type": "execute_result"
    }
   ],
   "source": [
    "(50-(60))/10"
   ]
  },
  {
   "cell_type": "markdown",
   "id": "a1fa5127-3d43-48e2-b788-bec01ec28a66",
   "metadata": {},
   "source": [
    "Q7: Explain uniform Distribution with an example."
   ]
  },
  {
   "cell_type": "markdown",
   "id": "48c3d5e2-992d-459f-b53c-ea32d5b4fcfa",
   "metadata": {},
   "source": [
    "It is example of symmetrical distribution means the outcome between the range of continuous and discreate distribution function.\n",
    "examples:-tossing a fair of coin and dice of the ludo."
   ]
  },
  {
   "cell_type": "markdown",
   "id": "153459e0-c98d-4d04-8525-a6317c1df8c2",
   "metadata": {},
   "source": [
    "Q8: What is the z score? State the importance of the z score."
   ]
  },
  {
   "cell_type": "markdown",
   "id": "c30dd60b-de9d-455e-aed2-b83301a1f3c8",
   "metadata": {},
   "source": [
    "A z-score gives us an idea of how far from the mean a data point is. It is an important topic in statistics.\n",
    "Z-scores are a method to compare results to a “normal” population."
   ]
  },
  {
   "cell_type": "markdown",
   "id": "399c3e9e-f5ce-475d-b900-146a9b15e2ea",
   "metadata": {},
   "source": [
    "Q9: What is Central Limit Theorem? State the significance of the Central Limit Theorem."
   ]
  },
  {
   "cell_type": "markdown",
   "id": "b5142030-ede4-4860-aad1-3edad7fee6b4",
   "metadata": {},
   "source": [
    "The central limit theorem relies on the concept of sampling distribution,which is the probability distribution of statistic\n",
    "for a large number of samples of (normal,poission,binomial or any kind of distribution) taken from a population.\n",
    "\n",
    "The CLT has several applications. Look at the places where you can use it.\n",
    "\n",
    "1.Political/election polling is a great example of how you can use CLT. These polls are used to estimate the number of people who support a specific candidate. You may have seen these results with confidence intervals on news channels. The CLT aids in this calculation.\n",
    "\n",
    "2.You use the CLT in various census fields to calculate various population details, such as family income, electricity consumption, individual salaries, and so on.\n",
    "\n"
   ]
  },
  {
   "cell_type": "markdown",
   "id": "f5c24b06-3ffc-4bd0-9aa5-4210ab667a5f",
   "metadata": {},
   "source": [
    "Q10: State the assumptions of the Central Limit Theorem."
   ]
  },
  {
   "cell_type": "code",
   "execution_count": null,
   "id": "df6ff3e4-736a-43a9-893e-62d68d77160a",
   "metadata": {},
   "outputs": [],
   "source": []
  },
  {
   "cell_type": "code",
   "execution_count": null,
   "id": "d1365f37-1af3-4156-8de5-f7ea406c19f5",
   "metadata": {},
   "outputs": [],
   "source": []
  }
 ],
 "metadata": {
  "kernelspec": {
   "display_name": "Python 3 (ipykernel)",
   "language": "python",
   "name": "python3"
  },
  "language_info": {
   "codemirror_mode": {
    "name": "ipython",
    "version": 3
   },
   "file_extension": ".py",
   "mimetype": "text/x-python",
   "name": "python",
   "nbconvert_exporter": "python",
   "pygments_lexer": "ipython3",
   "version": "3.10.8"
  }
 },
 "nbformat": 4,
 "nbformat_minor": 5
}
